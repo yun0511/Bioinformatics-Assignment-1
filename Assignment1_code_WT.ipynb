{
 "cells": [
  {
   "cell_type": "code",
   "execution_count": 1,
   "metadata": {},
   "outputs": [
    {
     "name": "stdout",
     "output_type": "stream",
     "text": [
      "5.981\n"
     ]
    }
   ],
   "source": [
    "import numpy as np\n",
    "from random import random\n",
    "def waiting_time(probability, pattern) :\n",
    "    pattern_size = len(pattern)\n",
    "    sequence =''\n",
    "    while len(sequence) < pattern_size or sequence[-pattern_size:] != pattern :\n",
    "        ran = random()\n",
    "        p = 0\n",
    "        for letter in probability :\n",
    "            p += probability[letter]\n",
    "            if ran<p:\n",
    "                sequence += letter\n",
    "                break\n",
    "    return len(sequence)\n",
    "# Composition\n",
    "probability = dict()\n",
    "probability['R']=0.5 # set probability for each letter\n",
    "probability['Y']=0.5\n",
    "pattern = \"RR\" #new pattern\n",
    "n = 10000\n",
    "waiting_times = [waiting_time(probability, pattern) for i in range(n)]\n",
    "print(np.mean(waiting_times))"
   ]
  },
  {
   "cell_type": "code",
   "execution_count": 2,
   "metadata": {},
   "outputs": [
    {
     "name": "stdout",
     "output_type": "stream",
     "text": [
      "3.1525\n"
     ]
    }
   ],
   "source": [
    "import numpy as np\n",
    "from random import random\n",
    "def waiting_time(probability, pattern) :\n",
    "    pattern_size = len(pattern)\n",
    "    sequence =''\n",
    "    while len(sequence) < pattern_size or sequence[-pattern_size:] != pattern :\n",
    "        ran = random()\n",
    "        p = 0\n",
    "        for letter in probability :\n",
    "            p += probability[letter]\n",
    "            if ran<p:\n",
    "                sequence += letter\n",
    "                break\n",
    "    return len(sequence)\n",
    "# Composition\n",
    "probability = dict()\n",
    "probability['R']=0.75\n",
    "probability['Y']=0.25\n",
    "pattern = \"RR\"\n",
    "n = 10000\n",
    "waiting_times = [waiting_time(probability, pattern) for i in range(n)]\n",
    "print(np.mean(waiting_times))"
   ]
  },
  {
   "cell_type": "code",
   "execution_count": 3,
   "metadata": {},
   "outputs": [
    {
     "name": "stdout",
     "output_type": "stream",
     "text": [
      "4.013\n"
     ]
    }
   ],
   "source": [
    "import numpy as np\n",
    "from random import random\n",
    "def waiting_time(probability, pattern) :\n",
    "    pattern_size = len(pattern)\n",
    "    sequence =''\n",
    "    while len(sequence) < pattern_size or sequence[-pattern_size:] != pattern :\n",
    "        ran = random()\n",
    "        p = 0\n",
    "        for letter in probability :\n",
    "            p += probability[letter]\n",
    "            if ran<p:\n",
    "                sequence += letter\n",
    "                break\n",
    "    return len(sequence)\n",
    "# Composition\n",
    "probability = dict()\n",
    "probability['R']=0.5\n",
    "probability['Y']=0.5\n",
    "pattern = \"RY\"\n",
    "n = 10000\n",
    "waiting_times = [waiting_time(probability, pattern) for i in range(n)]\n",
    "print(np.mean(waiting_times))"
   ]
  },
  {
   "cell_type": "code",
   "execution_count": 4,
   "metadata": {},
   "outputs": [
    {
     "name": "stdout",
     "output_type": "stream",
     "text": [
      "5.3271\n"
     ]
    }
   ],
   "source": [
    "import numpy as np\n",
    "from random import random\n",
    "def waiting_time(probability, pattern) :\n",
    "    pattern_size = len(pattern)\n",
    "    sequence =''\n",
    "    while len(sequence) < pattern_size or sequence[-pattern_size:] != pattern :\n",
    "        ran = random()\n",
    "        p = 0\n",
    "        for letter in probability :\n",
    "            p += probability[letter]\n",
    "            if ran<p:\n",
    "                sequence += letter\n",
    "                break\n",
    "    return len(sequence)\n",
    "# Composition\n",
    "probability = dict()\n",
    "probability['R']=0.75\n",
    "probability['Y']=0.25\n",
    "pattern = \"RY\"\n",
    "n = 10000\n",
    "waiting_times = [waiting_time(probability, pattern) for i in range(n)]\n",
    "print(np.mean(waiting_times))"
   ]
  },
  {
   "cell_type": "code",
   "execution_count": null,
   "metadata": {},
   "outputs": [],
   "source": []
  }
 ],
 "metadata": {
  "kernelspec": {
   "display_name": "Python 3",
   "language": "python",
   "name": "python3"
  },
  "language_info": {
   "codemirror_mode": {
    "name": "ipython",
    "version": 3
   },
   "file_extension": ".py",
   "mimetype": "text/x-python",
   "name": "python",
   "nbconvert_exporter": "python",
   "pygments_lexer": "ipython3",
   "version": "3.7.3"
  }
 },
 "nbformat": 4,
 "nbformat_minor": 2
}
